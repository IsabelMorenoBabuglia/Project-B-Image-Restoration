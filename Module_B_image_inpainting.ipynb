{
 "cells": [
  {
   "cell_type": "code",
   "execution_count": 1,
   "metadata": {},
   "outputs": [],
   "source": [
    "from PIL import Image as im\n",
    "import numpy as np"
   ]
  },
  {
   "cell_type": "code",
   "execution_count": null,
   "metadata": {},
   "outputs": [],
   "source": [
    "Im1=im.open('Original.jpg')\n",
    "original=Im1.convert('L')\n",
    "Im2=im.open('Graffiti.jpg')\n",
    "graffiti=Im2.convert('L')\n",
    "Im3=im.open('Mask.jpg')\n",
    "mask=Im3.convert('L')\n",
    "og=np.array(original)\n",
    "gr=np.array(graffiti)\n",
    "mk=np.array(mask)\n",
    "graffiti"
   ]
  },
  {
   "cell_type": "code",
   "execution_count": 3,
   "metadata": {},
   "outputs": [
    {
     "data": {
      "image/png": "[encoded data removed]",
      "text/plain": [
       "<PIL.Image.Image image mode=L size=617x360 at 0x7F74FC07E4F0>"
      ]
     },
     "execution_count": 3,
     "metadata": {},
     "output_type": "execute_result"
    }
   ],
   "source": [
    "#prepare mask for site classification\n",
    "n=mk.shape[0]\n",
    "m=mk.shape[1]\n",
    "inside=[]\n",
    "boundary=[]\n",
    "for i in range(1,n-1):\n",
    "    for j in range(1,m-1):\n",
    "        if mk[i][j]>230:\n",
    "            mk[i][j]=255\n",
    "            inside.append([i,j])\n",
    "        else:\n",
    "            mk[i][j]=0\n",
    "            if mk[i-1][j]>230 or mk[i+1][j]>230 or mk[i][j-1]>230 or mk[i][j+1]>230:\n",
    "                boundary.append([i,j])\n",
    "#Lattice points in the s notation are the index number in list inside\n",
    "im.fromarray(mk)"
   ]
  },
  {
   "cell_type": "code",
   "execution_count": 4,
   "metadata": {},
   "outputs": [
    {
     "name": "stdout",
     "output_type": "stream",
     "text": [
      "3744648.0\n",
      "29806\n",
      "24758\n",
      "24758\n",
      "5048\n",
      "29806\n"
     ]
    }
   ],
   "source": [
    "#Initial conditions\n",
    "u0=[]\n",
    "stop=[]\n",
    "suma=0\n",
    "for k in inside:\n",
    "    u0.append(float(gr[k[0]][k[1]]))\n",
    "    stop.append(float(gr[k[0]][k[1]]))\n",
    "    suma=suma+float(gr[k[0]][k[1]])\n",
    "for k in boundary:\n",
    "    u0.append(float(gr[k[0]][k[1]]))\n",
    "lattice=inside+boundary\n",
    "print (suma)\n",
    "print (len(u0))\n",
    "print (len(stop))\n",
    "print (len(inside))\n",
    "print (len(boundary))\n",
    "print (len(lattice))"
   ]
  },
  {
   "cell_type": "code",
   "execution_count": 5,
   "metadata": {},
   "outputs": [
    {
     "ename": "KeyboardInterrupt",
     "evalue": "",
     "output_type": "error",
     "traceback": [
      "\u001b[0;31m---------------------------------------------------------------------------\u001b[0m",
      "\u001b[0;31mKeyboardInterrupt\u001b[0m                         Traceback (most recent call last)",
      "\u001b[0;32m/tmp/ipykernel_213/2134974600.py\u001b[0m in \u001b[0;36m<module>\u001b[0;34m\u001b[0m\n\u001b[1;32m      8\u001b[0m     \u001b[0mcount\u001b[0m\u001b[0;34m=\u001b[0m\u001b[0mcount\u001b[0m\u001b[0;34m+\u001b[0m\u001b[0;36m1\u001b[0m\u001b[0;34m\u001b[0m\u001b[0;34m\u001b[0m\u001b[0m\n\u001b[1;32m      9\u001b[0m     \u001b[0;32mfor\u001b[0m \u001b[0mk\u001b[0m \u001b[0;32min\u001b[0m \u001b[0minside\u001b[0m\u001b[0;34m:\u001b[0m\u001b[0;34m\u001b[0m\u001b[0;34m\u001b[0m\u001b[0m\n\u001b[0;32m---> 10\u001b[0;31m         u[inside.index(k)]=(1/4)*(u[lattice.index([k[0]+1,k[1]])]+u[lattice.index([k[0]-1,k[1]])]+\n\u001b[0m\u001b[1;32m     11\u001b[0m                 u[lattice.index([k[0],k[1]+1])]+u[lattice.index([k[0],k[1]-1])])\n\u001b[1;32m     12\u001b[0m         \u001b[0mstop\u001b[0m\u001b[0;34m[\u001b[0m\u001b[0minside\u001b[0m\u001b[0;34m.\u001b[0m\u001b[0mindex\u001b[0m\u001b[0;34m(\u001b[0m\u001b[0mk\u001b[0m\u001b[0;34m)\u001b[0m\u001b[0;34m]\u001b[0m\u001b[0;34m=\u001b[0m\u001b[0mabs\u001b[0m\u001b[0;34m(\u001b[0m\u001b[0mu\u001b[0m\u001b[0;34m[\u001b[0m\u001b[0minside\u001b[0m\u001b[0;34m.\u001b[0m\u001b[0mindex\u001b[0m\u001b[0;34m(\u001b[0m\u001b[0mk\u001b[0m\u001b[0;34m)\u001b[0m\u001b[0;34m]\u001b[0m\u001b[0;34m-\u001b[0m\u001b[0mcontrol_u\u001b[0m\u001b[0;34m[\u001b[0m\u001b[0minside\u001b[0m\u001b[0;34m.\u001b[0m\u001b[0mindex\u001b[0m\u001b[0;34m(\u001b[0m\u001b[0mk\u001b[0m\u001b[0;34m)\u001b[0m\u001b[0;34m]\u001b[0m\u001b[0;34m)\u001b[0m\u001b[0;34m\u001b[0m\u001b[0;34m\u001b[0m\u001b[0m\n",
      "\u001b[0;31mKeyboardInterrupt\u001b[0m: "
     ]
    }
   ],
   "source": [
    "#Let's solve with Jacobi\n",
    "u=u0\n",
    "count=0\n",
    "b=5\n",
    "while b>0.1:\n",
    "    #control_u=u\n",
    "    count=count+1\n",
    "    for k in inside:\n",
    "        u[inside.index(k)]=(1/4)*(u[lattice.index([k[0]+1,k[1]])]+u[lattice.index([k[0]-1,k[1]])]+\n",
    "                u[lattice.index([k[0],k[1]+1])]+u[lattice.index([k[0],k[1]-1])])\n",
    "        #stop[inside.index(k)]=abs(u[inside.index(k)]-control_u[inside.index(k)])\n",
    "    #b=np.linalg.norm(stop)\n",
    "    b=b+1"
   ]
  },
  {
   "cell_type": "code",
   "execution_count": null,
   "metadata": {},
   "outputs": [],
   "source": [
    "print (count)\n",
    "print (b)"
   ]
  },
  {
   "cell_type": "code",
   "execution_count": null,
   "metadata": {},
   "outputs": [],
   "source": [
    "rs=gr\n",
    "for k in inside:\n",
    "    rs[k[0]][k[1]]=u[inside.index(k)]\n",
    "restored=im.fromarray(rs)\n",
    "restored"
   ]
  }
 ],
 "metadata": {
  "kernelspec": {
   "display_name": "Python 3 (ipykernel)",
   "language": "python",
   "name": "python3"
  },
  "language_info": {
   "codemirror_mode": {
    "name": "ipython",
    "version": 3
   },
   "file_extension": ".py",
   "mimetype": "text/x-python",
   "name": "python",
   "nbconvert_exporter": "python",
   "pygments_lexer": "ipython3",
   "version": "3.8.10"
  }
 },
 "nbformat": 4,
 "nbformat_minor": 4
}
